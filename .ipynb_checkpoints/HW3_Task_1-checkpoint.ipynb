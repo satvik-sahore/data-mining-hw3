{
 "cells": [
  {
   "cell_type": "code",
   "execution_count": 1,
   "id": "82c9cf2a-a99b-4a81-8745-d844002783fa",
   "metadata": {},
   "outputs": [],
   "source": [
    "import kmeans_satvik as km\n",
    "import numpy as np"
   ]
  },
  {
   "cell_type": "code",
   "execution_count": 2,
   "id": "fc6dc0d9-cfb4-4007-a683-0c9d10ff37c4",
   "metadata": {},
   "outputs": [],
   "source": [
    "df = km.loadCSV('kmeans_data/data.csv')\n",
    "labels = km.loadCSV('kmeans_data/label.csv')"
   ]
  },
  {
   "cell_type": "code",
   "execution_count": 3,
   "id": "cc1c6760-9b8f-4243-8d50-868c1cb765a2",
   "metadata": {},
   "outputs": [
    {
     "name": "stdout",
     "output_type": "stream",
     "text": [
      "10\n"
     ]
    }
   ],
   "source": [
    "k = len(set(labels))\n",
    "print(k)"
   ]
  },
  {
   "cell_type": "code",
   "execution_count": 4,
   "id": "942aaed6-544d-4dfb-a7b8-76a9b560a196",
   "metadata": {},
   "outputs": [],
   "source": [
    "c_euclidean = km.kmeans(df,k,dist='euclidean')\n",
    "c_cosine = km.kmeans(df,k,dist='cosine')\n",
    "c_jaccard = km.kmeans(df,k,dist='jaccard')"
   ]
  },
  {
   "cell_type": "code",
   "execution_count": 5,
   "id": "beb1da58-d0b3-48a7-8fe8-7cb9d869ddc7",
   "metadata": {},
   "outputs": [
    {
     "name": "stdout",
     "output_type": "stream",
     "text": [
      "SSE of Euclidean:  25640844979.153355\n",
      "SSE of Cosine:  2462.884963406293\n",
      "SSE of Jaccard:  9999.0\n"
     ]
    }
   ],
   "source": [
    "print('SSE of Euclidean: ', c_euclidean['withinss'])\n",
    "print('SSE of Cosine: ', c_cosine['withinss'])\n",
    "print('SSE of Jaccard: ', c_jaccard['withinss'])"
   ]
  },
  {
   "cell_type": "code",
   "execution_count": 7,
   "id": "69b91f7b-3f2d-4a9a-bd4b-31d4872dea08",
   "metadata": {},
   "outputs": [
    {
     "name": "stdout",
     "output_type": "stream",
     "text": [
      "Accuracy of Euclidean: 0.5344534453445344\n",
      "Accuracy of Cosine: 0.6189618961896189\n",
      "Accuracy of Jaccard: 0.11351135113511351\n"
     ]
    }
   ],
   "source": [
    "from tqdm import tqdm\n",
    "def label_clusters(clusters, labels, df):\n",
    "    df_list = [list(instance) for instance in df]\n",
    "    cluster_labels = []\n",
    "    for cluster in clusters:\n",
    "        if not cluster:\n",
    "            continue\n",
    "        label_counts = {}\n",
    "        for instance in cluster:\n",
    "            instance_label = labels[df_list.index(list(instance))]\n",
    "            label_counts[instance_label] = label_counts.get(instance_label, 0) + 1\n",
    "        most_frequent_label = max(label_counts, key=label_counts.get)\n",
    "        cluster_labels.append(most_frequent_label)\n",
    "    return cluster_labels\n",
    "\n",
    "def cal_acc(clusters, cluster_labels, actual_labels, df):\n",
    "    correct_assignments = 0\n",
    "    total_assignments = 0\n",
    "    df_list = [list(instance) for instance in df]\n",
    "    for cluster_index, cluster in enumerate(clusters):\n",
    "        for instance in cluster:\n",
    "            instance_index = df_list.index(list(instance))\n",
    "            actual_label = actual_labels[instance_index]\n",
    "            predicted_label = cluster_labels[cluster_index]\n",
    "            if actual_label == predicted_label:\n",
    "                correct_assignments += 1\n",
    "            total_assignments += 1\n",
    "    accuracy = correct_assignments / total_assignments if total_assignments > 0 else 0\n",
    "    return accuracy\n",
    "\n",
    "df_list = [list(instance) for instance in df]\n",
    "labels_list = [label[0] for label in labels]\n",
    "\n",
    "euclidean_c_labels = label_clusters(c_euclidean['clusters'], labels_list, df)\n",
    "acc_euclidean = cal_acc(c_euclidean['clusters'], euclidean_c_labels, labels_list, df)\n",
    "\n",
    "cosine_c_labels = label_clusters(c_cosine['clusters'], labels_list, df)\n",
    "acc_cosine = cal_acc(c_cosine['clusters'], cosine_c_labels, labels_list, df)\n",
    "\n",
    "jaccard_c_labels = label_clusters(c_jaccard['clusters'], labels_list, df)\n",
    "acc_jaccard = cal_acc(c_jaccard['clusters'], jaccard_c_labels, labels_list, df)\n",
    "\n",
    "print('Accuracy of Euclidean:', acc_euclidean)\n",
    "print('Accuracy of Cosine:', acc_cosine)\n",
    "print('Accuracy of Jaccard:', acc_jaccard)"
   ]
  },
  {
   "cell_type": "code",
   "execution_count": 15,
   "id": "115e22d9-3f85-413c-acc1-f7a541310664",
   "metadata": {},
   "outputs": [],
   "source": [
    "from time import time\n",
    "\n",
    "def run_condition(condition, df,k):\n",
    "\n",
    "    euclidean_start = time()\n",
    "    c_euclidean = km.kmeans(df,k,dist='euclidean',condition=condition)\n",
    "    euclidean_time = time() - euclidean_start\n",
    "    print(\"Name: Euclidean \\t Time Taken: {} \\t Iteration Count: {}\".format(euclidean_time, c_euclidean['iterations']))\n",
    "    \n",
    "    cosine_start = time()\n",
    "    c_cosine = km.kmeans(df,k,dist='cosine',condition=condition)\n",
    "    cosine_time = time() - cosine_start\n",
    "    print(\"Name: Cosine \\t Time Taken: {} \\t Iteration Count: {}\".format(cosine_time, c_cosine['iterations']))\n",
    "\n",
    "    jaccard_start = time()\n",
    "    c_jaccard = km.kmeans(df,k,dist='jaccard',condition=condition)\n",
    "    jaccard_time = time() - jaccard_start\n",
    "    print(\"Name: Jaccard \\t Time Taken: {} \\t Iteration Count: {}\".format(jaccard_time, c_jaccard['iterations']))"
   ]
  },
  {
   "cell_type": "code",
   "execution_count": 16,
   "id": "31193e3a-f397-4180-bba5-e18d64c170e7",
   "metadata": {},
   "outputs": [
    {
     "name": "stdout",
     "output_type": "stream",
     "text": [
      "Name: Euclidean \t Time Taken: 470.15547585487366 \t Iteration Count: 45\n",
      "Name: Cosine \t Time Taken: 386.84544682502747 \t Iteration Count: 56\n",
      "Name: Jaccard \t Time Taken: 119.29828476905823 \t Iteration Count: 39\n"
     ]
    }
   ],
   "source": [
    "run_condition('centroid',df,k)"
   ]
  },
  {
   "cell_type": "code",
   "execution_count": 17,
   "id": "0c1f7003-0e66-4915-b456-1aaf5e9b5c28",
   "metadata": {},
   "outputs": [
    {
     "name": "stdout",
     "output_type": "stream",
     "text": [
      "Name: Euclidean \t Time Taken: 533.1912040710449 \t Iteration Count: 47\n",
      "Name: Cosine \t Time Taken: 325.0952205657959 \t Iteration Count: 43\n",
      "Name: Jaccard \t Time Taken: 15.544544219970703 \t Iteration Count: 3\n"
     ]
    }
   ],
   "source": [
    "run_condition('sse',df,k)"
   ]
  },
  {
   "cell_type": "code",
   "execution_count": 18,
   "id": "13f783dc-0a4b-4066-8cb1-3360eef34f9a",
   "metadata": {},
   "outputs": [
    {
     "name": "stdout",
     "output_type": "stream",
     "text": [
      "Name: Euclidean \t Time Taken: 1046.5089251995087 \t Iteration Count: 100\n",
      "Name: Cosine \t Time Taken: 729.0478780269623 \t Iteration Count: 100\n",
      "Name: Jaccard \t Time Taken: 204.43774604797363 \t Iteration Count: 100\n"
     ]
    }
   ],
   "source": [
    "run_condition('iteration',df,k)"
   ]
  },
  {
   "cell_type": "code",
   "execution_count": 19,
   "id": "ea75868d-f194-4b83-a709-52a267fcfd15",
   "metadata": {},
   "outputs": [],
   "source": [
    "def run_condition_sse(condition, df,k):\n",
    "    c_euclidean = km.kmeans(df,k,dist='euclidean',condition=condition)\n",
    "    print(\"Euclidean : {}\".format(c_euclidean['withinss']))\n",
    "    c_cosine = km.kmeans(df,k,dist='cosine',condition=condition)\n",
    "    print(\"Cosine : {}\".format(c_cosine['withinss']))\n",
    "    c_jaccard = km.kmeans(df,k,dist='jaccard',condition=condition)\n",
    "    print(\"Jaccard : {}\".format(c_jaccard['withinss']))"
   ]
  },
  {
   "cell_type": "code",
   "execution_count": 20,
   "id": "f7adbc71-b3f8-4b2a-bc13-f35794cc460a",
   "metadata": {},
   "outputs": [
    {
     "name": "stdout",
     "output_type": "stream",
     "text": [
      "Euclidean : 25482724134.745213\n",
      "Cosine : 2491.2243403842886\n",
      "Jaccard : 9999.0\n"
     ]
    }
   ],
   "source": [
    "run_condition_sse('centroid',df,k)"
   ]
  },
  {
   "cell_type": "code",
   "execution_count": null,
   "id": "ef1d333b-6744-40e7-8b61-1096d19a1b16",
   "metadata": {},
   "outputs": [],
   "source": [
    "run_condition_sse('sse',df,k)"
   ]
  },
  {
   "cell_type": "code",
   "execution_count": null,
   "id": "69262fe8-254a-4409-a4d3-a9a90be59355",
   "metadata": {},
   "outputs": [],
   "source": [
    "run_condition_sse('iteration',df,k)"
   ]
  },
  {
   "cell_type": "code",
   "execution_count": null,
   "id": "d8dcd5ff-c72e-4f62-b5d6-60c6e4f433c9",
   "metadata": {},
   "outputs": [],
   "source": []
  }
 ],
 "metadata": {
  "kernelspec": {
   "display_name": "Python 3 (ipykernel)",
   "language": "python",
   "name": "python3"
  },
  "language_info": {
   "codemirror_mode": {
    "name": "ipython",
    "version": 3
   },
   "file_extension": ".py",
   "mimetype": "text/x-python",
   "name": "python",
   "nbconvert_exporter": "python",
   "pygments_lexer": "ipython3",
   "version": "3.11.7"
  }
 },
 "nbformat": 4,
 "nbformat_minor": 5
}
